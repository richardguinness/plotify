{
 "cells": [
  {
   "cell_type": "code",
   "execution_count": 16,
   "id": "db9ae418-a531-445c-8c8f-8b52fd622a14",
   "metadata": {},
   "outputs": [
    {
     "name": "stdout",
     "output_type": "stream",
     "text": [
      "Bobby goes on a space adventure, he is excited about the adventure. He loves his job. He can dream about his future as a musician. He is also a soldier who tries to save his people. But Bobby s future is bleak. Bobby needs to find a way to live up to his ideals. He doesn t want to be an agronomist or a soldier. He needs to take part in war. He needs to take part in rebuilding a society. He needs to use his father s generosity to help his father and work to earn his living. He must work to make up his mind to be a soldier. \n",
      "['adventure', 'Bobby', 'soldier', 'excited', 'part', 'work', 'musician']\n"
     ]
    }
   ],
   "source": [
    "import requests\n",
    "\n",
    "url = \"https://plotifymodel-b4p33xwhra-ez.a.run.app/generate_summary?\"\n",
    "\n",
    "param = {'genre': 'fantasy',\n",
    "            'prompt': 'Bobby goes on a space adventure, he is excited about the adventure.',\n",
    "            'max_length': 200}\n",
    "\n",
    "x = requests.get(url, params=param).json()\n",
    "\n",
    "text = x['generate_summary'][0]['generated_text'].split('>')[1]\n",
    "\n",
    "import re\n",
    "text = re.sub(r'\\s([?.!,\"](?:\\s|$))', r'\\1', text)\n",
    "\n",
    "print(text)\n",
    "\n",
    "import yake\n",
    "\n",
    "def get_keywords(text):\n",
    "\n",
    "    kw_extractor = yake.KeywordExtractor()\n",
    "    text = text\n",
    "    language = \"en\"\n",
    "    max_ngram_size = 1\n",
    "    deduplication_threshold = 0.25\n",
    "    numOfKeywords = 7\n",
    "    custom_kw_extractor = yake.KeywordExtractor(lan=language, n=max_ngram_size, dedupLim=deduplication_threshold, top=numOfKeywords, features=None, stopwords=None)\n",
    "    keywords = custom_kw_extractor.extract_keywords(text)\n",
    "\n",
    "    keyword_list = [x[0] for x in keywords]\n",
    "    \n",
    "    return keyword_list\n",
    "\n",
    "print(get_keywords(text))"
   ]
  },
  {
   "cell_type": "code",
   "execution_count": 18,
   "id": "a25aa5d8-6397-49fc-a6c7-6cb52013a926",
   "metadata": {},
   "outputs": [
    {
     "data": {
      "text/plain": [
       "['adventure', 'Bobby', 'soldier', 'excited', 'part', 'work', 'musician']"
      ]
     },
     "execution_count": 18,
     "metadata": {},
     "output_type": "execute_result"
    }
   ],
   "source": [
    "keywords = (get_keywords(text))\n",
    "keywords"
   ]
  },
  {
   "cell_type": "code",
   "execution_count": 21,
   "id": "2a53033f-4dcf-4f85-9be8-42dba5df680b",
   "metadata": {},
   "outputs": [
    {
     "data": {
      "text/plain": [
       "'adventure, Bobby, soldier, excited, part, work, musician'"
      ]
     },
     "execution_count": 21,
     "metadata": {},
     "output_type": "execute_result"
    }
   ],
   "source": [
    "\", \".join(keywords)"
   ]
  },
  {
   "cell_type": "code",
   "execution_count": null,
   "id": "6d01d652-e18e-493d-8ad5-188c45258af2",
   "metadata": {},
   "outputs": [],
   "source": [
    "\",\".join(myList)"
   ]
  }
 ],
 "metadata": {
  "kernelspec": {
   "display_name": "Python 3 (ipykernel)",
   "language": "python",
   "name": "python3"
  },
  "language_info": {
   "codemirror_mode": {
    "name": "ipython",
    "version": 3
   },
   "file_extension": ".py",
   "mimetype": "text/x-python",
   "name": "python",
   "nbconvert_exporter": "python",
   "pygments_lexer": "ipython3",
   "version": "3.10.6"
  }
 },
 "nbformat": 4,
 "nbformat_minor": 5
}
