{
 "cells": [
  {
   "cell_type": "code",
   "execution_count": 2,
   "id": "149c9fb2-32c1-4cbb-8323-6843d4734896",
   "metadata": {},
   "outputs": [],
   "source": [
    "output_topics_list = ['anchor', 'cat', 'sheep']"
   ]
  },
  {
   "cell_type": "code",
   "execution_count": 4,
   "id": "c46852bd-430e-48ec-a1b5-c5d72386ff10",
   "metadata": {},
   "outputs": [
    {
     "name": "stdout",
     "output_type": "stream",
     "text": [
      "anchor\n",
      "cat\n",
      "sheep\n"
     ]
    }
   ],
   "source": [
    "print('\\n'.join(map(str, output_topics_list)))"
   ]
  },
  {
   "cell_type": "code",
   "execution_count": 5,
   "id": "4a39d4a3-0115-4eb0-bb76-0a63a6a8e72d",
   "metadata": {},
   "outputs": [
    {
     "data": {
      "text/plain": [
       "\"'anchor', 'cat', 'sheep'\""
      ]
     },
     "execution_count": 5,
     "metadata": {},
     "output_type": "execute_result"
    }
   ],
   "source": [
    "str(output_topics_list)[1:-1]"
   ]
  },
  {
   "cell_type": "code",
   "execution_count": null,
   "id": "7092f080-c0f6-4b11-b4e0-b3eeba0c7a67",
   "metadata": {},
   "outputs": [],
   "source": []
  }
 ],
 "metadata": {
  "kernelspec": {
   "display_name": "Python 3 (ipykernel)",
   "language": "python",
   "name": "python3"
  },
  "language_info": {
   "codemirror_mode": {
    "name": "ipython",
    "version": 3
   },
   "file_extension": ".py",
   "mimetype": "text/x-python",
   "name": "python",
   "nbconvert_exporter": "python",
   "pygments_lexer": "ipython3",
   "version": "3.10.6"
  }
 },
 "nbformat": 4,
 "nbformat_minor": 5
}
